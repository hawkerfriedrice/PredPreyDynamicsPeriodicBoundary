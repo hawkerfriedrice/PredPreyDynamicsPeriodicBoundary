{
 "cells": [
  {
   "cell_type": "code",
   "execution_count": 43,
   "metadata": {},
   "outputs": [],
   "source": [
    "%matplotlib inline\n",
    "#%matplotlib notebook\n",
    "\n",
    "from ipywidgets import interact, interactive, fixed, interact_manual,Play\n",
    "import ipywidgets as widgets\n",
    "import matplotlib.colors as colors\n",
    "import matplotlib as mpl\n",
    "import pylab\n",
    "import matplotlib\n",
    "import numpy as np\n",
    "import matplotlib.pyplot as plt\n",
    "import scipy.interpolate as interpolate\n",
    "import math\n",
    "import os\n",
    "import scipy.special as sp\n",
    "import scipy.integrate as integrate\n",
    "import scipy.misc as ms\n",
    "from matplotlib import gridspec\n",
    "from numpy import linalg as LA\n",
    "from scipy.optimize import curve_fit\n",
    "from mpl_toolkits.mplot3d import Axes3D\n",
    "import warnings\n",
    "from matplotlib.colors import LinearSegmentedColormap\n",
    "from matplotlib.patches import Rectangle, Circle\n",
    "from scipy import optimize\n",
    "from scipy.integrate import odeint\n",
    "from scipy.integrate import solve_ivp\n",
    "from numba import jit\n",
    "import random\n",
    "from mpl_toolkits.mplot3d import Axes3D  # noqa: F401 unused import\n",
    "\n",
    "\n",
    "warnings.filterwarnings('ignore')"
   ]
  },
  {
   "cell_type": "code",
   "execution_count": 44,
   "metadata": {},
   "outputs": [],
   "source": [
    "\n",
    "pgf_with_latex = {                      # setup matplotlib to use latex for output\n",
    "    \"pgf.texsystem\": \"pdflatex\",        # change this if using xetex or lautex\n",
    "    \"text.usetex\": True,                # use LaTeX to write all text\n",
    "    \"font.family\": \"serif\",\n",
    "    \"font.serif\": [],                   # blank entries should cause plots to inherit fonts from the document\n",
    "    \"font.sans-serif\": [],\n",
    "    \"font.monospace\": [],\n",
    "    \"axes.labelsize\": 18,               # LaTeX default is 10pt font.\n",
    "    #\"text.fontsize\": 18,\n",
    "    \"legend.fontsize\": 16,               # Make the legend/label fonts a little smaller\n",
    "    \"xtick.labelsize\": 16,\n",
    "    \"ytick.labelsize\": 16,\n",
    "    \"pgf.preamble\": [\n",
    "        r\"\\usepackage{bm}\",  \n",
    "        r\"\\usepackage[utf8x]{inputenc}\",    # use utf8 fonts becasue your computer can handle it :)\n",
    "        r\"\\usepackage[T1]{fontenc}\",        # plots will be generated using this preamble\n",
    "        r\"\\usepackage{amsmath}\"\n",
    "        ]\n",
    "    }\n",
    "mpl.rcParams.update(pgf_with_latex)\n"
   ]
  },
  {
   "cell_type": "code",
   "execution_count": 45,
   "metadata": {},
   "outputs": [],
   "source": [
    "dt=0.01\n",
    "ntimes=100\n",
    "maxt=5"
   ]
  },
  {
   "cell_type": "code",
   "execution_count": 46,
   "metadata": {
    "scrolled": true
   },
   "outputs": [
    {
     "data": {
      "image/png": "[encoded data removed]",
      "text/plain": [
       "<Figure size 432x288 with 1 Axes>"
      ]
     },
     "metadata": {
      "needs_background": "light"
     },
     "output_type": "display_data"
    }
   ],
   "source": [
    "x1=np.pi/3\n",
    "x2=np.pi/8\n",
    "time=0.0\n",
    "m1=2\n",
    "v1=6\n",
    "m2=1\n",
    "v2=5\n",
    "while( time<maxt ):\n",
    "    x1 += (v1 - m1*np.sin(x1))*dt  \n",
    "    x2 += (v2 - m2*np.sin(x2))*dt \n",
    "    time+=dt\n",
    "    \n",
    "    if x1>2*np.pi:\n",
    "        x1 -= 2*np.pi\n",
    "    if x2>2*np.pi:\n",
    "        x2 -= 2*np.pi\n",
    "    if x1<0:\n",
    "        x1 += 2*np.pi\n",
    "    if x2<0:\n",
    "        x2 += 2*np.pi\n",
    "    \n",
    "    plt.scatter(time,x1,c=\"green\")    \n",
    "    plt.scatter(time,x2,c=\"blue\")\n",
    "plt.show()"
   ]
  },
  {
   "cell_type": "code",
   "execution_count": 47,
   "metadata": {},
   "outputs": [],
   "source": [
    "g_maxx=10.\n",
    "g_maxy=10.\n",
    "\n",
    "gridpointsx=10\n",
    "gridpointsy=10\n",
    "\n",
    "v2=5\n",
    "m2=1\n",
    "maxx=g_maxx*m2\n",
    "maxy=g_maxy\n",
    "\n",
    "m1lin= np.linspace(0,maxx/m2,gridpointsx)\n",
    "v1lin= np.linspace(0,maxy/v2,gridpointsy)\n",
    "\n",
    "m1grid, v1grid = np.meshgrid(m1lin, v1lin)\n",
    "catch_times=np.zeros(np.shape(m1grid))\n",
    "catch_pos=np.zeros(np.shape(m1grid))"
   ]
  },
  {
   "cell_type": "code",
   "execution_count": 48,
   "metadata": {},
   "outputs": [],
   "source": [
    "for i in range(0,gridpointsx):\n",
    "    for j in range(0,gridpointsy):\n",
    "        v1=v1grid[i,j]\n",
    "        m1=m1grid[i,j]\n",
    "        \n",
    "        random.seed()\n",
    "        disttimes=np.zeros(ntimes)\n",
    "        distpos=np.zeros(ntimes)\n",
    "        for k in range(0,ntimes):\n",
    "            x1=np.pi/3\n",
    "            x2=np.pi/8\n",
    "            time=0.0\n",
    "            while( (x1>x2) & (time <maxt) ):\n",
    "                x1 += (v1 - m1*np.sin(x1))*dt  \n",
    "                x2 += (v2 - m2*np.sin(x2))*dt \n",
    "                time+=dt\n",
    "    \n",
    "                if x1>2*np.pi:\n",
    "                    x1 -= 2*np.pi\n",
    "                if x2>2*np.pi:\n",
    "                    x2 -= 2*np.pi\n",
    "                if x1<0:\n",
    "                    x1 += 2*np.pi\n",
    "                if x2<0:\n",
    "                    x2 += 2*np.pi\n",
    "            disttimes[k]=time\n",
    "            if(time < maxt): distpos[k]=x1\n",
    "        catch_times[i,j]=np.mean(disttimes)\n",
    "        catch_pos[i,j]=np.mean(distpos)"
   ]
  },
  {
   "cell_type": "code",
   "execution_count": 49,
   "metadata": {},
   "outputs": [],
   "source": [
    "phase=np.zeros(np.shape(m1grid))\n",
    "x1=np.pi/3\n",
    "x2=np.pi/8\n",
    "for i in range(0,gridpointsx):\n",
    "    for j in range(0,gridpointsy):\n",
    "        #case caught 1\n",
    "        if (catch_pos[i,j]> x1) & (catch_pos[i,j]<= np.pi) :\n",
    "            phase[i,j]=1 \n",
    "        #case caught 2\n",
    "        if (catch_pos[i,j]> np.pi):\n",
    "            phase[i,j]=2\n",
    "        #case caught 5\n",
    "        if (catch_pos[i,j]< x1) :\n",
    "            phase[i,j]=5\n",
    "        #case escape 1\n",
    "        if (catch_times[i,j]> maxt-1):  \n",
    "            phase[i,j]=6"
   ]
  },
  {
   "cell_type": "code",
   "execution_count": 50,
   "metadata": {},
   "outputs": [
    {
     "data": {
      "image/png": "[encoded data removed]",
      "text/plain": [
       "<Figure size 432x288 with 2 Axes>"
      ]
     },
     "metadata": {
      "needs_background": "light"
     },
     "output_type": "display_data"
    }
   ],
   "source": [
    "plt.pcolormesh(m1grid,v1grid,phase, cmap=\"tab10\", vmin=1,vmax=10)\n",
    "plt.colorbar()\n",
    "plt.show()"
   ]
  },
  {
   "cell_type": "code",
   "execution_count": 51,
   "metadata": {},
   "outputs": [],
   "source": [
    "phase=np.zeros(np.shape(m1grid))\n",
    "x1= np.pi/8\n",
    "x2= 0\n",
    "for i in range(0,gridpointsx):\n",
    "    for j in range(0,gridpointsy):\n",
    "        #case caught 1\n",
    "        if (catch_pos[i,j]> x1) & (catch_pos[i,j]<= 0.0) :\n",
    "            phase[i,j]=1 \n",
    "        #case caught 2\n",
    "        if (catch_pos[i,j]> 0.0) :\n",
    "            phase[i,j]=2\n",
    "        #case caught 5\n",
    "        if (catch_pos[i,j]< x1) :\n",
    "            phase[i,j]=5\n",
    "        #case escape 1\n",
    "        if (catch_times[i,j]> maxt-1):  \n",
    "            phase[i,j]=6"
   ]
  },
  {
   "cell_type": "code",
   "execution_count": 52,
   "metadata": {},
   "outputs": [
    {
     "data": {
      "image/png": "[encoded data removed]",
      "text/plain": [
       "<Figure size 432x288 with 2 Axes>"
      ]
     },
     "metadata": {
      "needs_background": "light"
     },
     "output_type": "display_data"
    }
   ],
   "source": [
    "plt.pcolormesh(m1grid,v1grid,phase, cmap=\"tab10\", vmin=1,vmax=10)\n",
    "plt.colorbar()\n",
    "plt.show()"
   ]
  },
  {
   "cell_type": "code",
   "execution_count": null,
   "metadata": {},
   "outputs": [],
   "source": []
  }
 ],
 "metadata": {
  "kernelspec": {
   "display_name": "Python 3 (ipykernel)",
   "language": "python",
   "name": "python3"
  },
  "language_info": {
   "codemirror_mode": {
    "name": "ipython",
    "version": 3
   },
   "file_extension": ".py",
   "mimetype": "text/x-python",
   "name": "python",
   "nbconvert_exporter": "python",
   "pygments_lexer": "ipython3",
   "version": "3.9.12"
  }
 },
 "nbformat": 4,
 "nbformat_minor": 2
}
