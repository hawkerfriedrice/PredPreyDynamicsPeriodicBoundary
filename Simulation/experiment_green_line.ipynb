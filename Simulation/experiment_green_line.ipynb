{
 "cells": [
  {
   "cell_type": "code",
   "execution_count": 11,
   "metadata": {},
   "outputs": [],
   "source": [
    "%matplotlib inline\n",
    "#%matplotlib notebook\n",
    "\n",
    "from ipywidgets import interact, interactive, fixed, interact_manual,Play\n",
    "import cmath\n",
    "import ipywidgets as widgets\n",
    "import matplotlib.colors as colors\n",
    "import matplotlib as mpl\n",
    "import pylab\n",
    "import matplotlib\n",
    "import numpy as np\n",
    "import matplotlib.pyplot as plt\n",
    "import scipy.interpolate as interpolate\n",
    "import math\n",
    "import os\n",
    "import scipy.special as sp\n",
    "import scipy.integrate as integrate\n",
    "import scipy.misc as ms\n",
    "from matplotlib import gridspec\n",
    "from numpy import linalg as LA\n",
    "from scipy.optimize import curve_fit\n",
    "from mpl_toolkits.mplot3d import Axes3D\n",
    "import warnings\n",
    "from matplotlib.colors import LinearSegmentedColormap\n",
    "from matplotlib.patches import Rectangle, Circle\n",
    "from scipy import optimize\n",
    "\n",
    "warnings.filterwarnings('ignore')"
   ]
  },
  {
   "cell_type": "code",
   "execution_count": 12,
   "metadata": {},
   "outputs": [],
   "source": [
    "\n",
    "pgf_with_latex = {                      # setup matplotlib to use latex for output\n",
    "    \"pgf.texsystem\": \"pdflatex\",        # change this if using xetex or lautex\n",
    "    \"text.usetex\": True,                # use LaTeX to write all text\n",
    "    \"font.family\": \"serif\",\n",
    "    \"font.serif\": [],                   # blank entries should cause plots to inherit fonts from the document\n",
    "    \"font.sans-serif\": [],\n",
    "    \"font.monospace\": [],\n",
    "    \"axes.labelsize\": 18,               # LaTeX default is 10pt font.\n",
    "    #\"text.fontsize\": 18,\n",
    "    \"legend.fontsize\": 16,               # Make the legend/label fonts a little smaller\n",
    "    \"xtick.labelsize\": 16,\n",
    "    \"ytick.labelsize\": 16,\n",
    "    \"pgf.preamble\": [\n",
    "        r\"\\usepackage{bm}\",  \n",
    "        r\"\\usepackage[utf8x]{inputenc}\",    # use utf8 fonts becasue your computer can handle it :)\n",
    "        r\"\\usepackage[T1]{fontenc}\",        # plots will be generated using this preamble\n",
    "        r\"\\usepackage{amsmath}\"\n",
    "        ]\n",
    "    }\n",
    "mpl.rcParams.update(pgf_with_latex)\n"
   ]
  },
  {
   "cell_type": "code",
   "execution_count": 13,
   "metadata": {},
   "outputs": [],
   "source": [
    "def x1_sol(t,m1,v1,xs1):\n",
    "    return 2*np.arctan((m1-np.sqrt(v1*v1-m1*m1)*np.tan(-1/2 * t * np.sqrt(v1*v1-m1*m1) - np.arctan((-m1*np.sqrt(v1*v1-m1*m1) + v1*np.sqrt(v1*v1-m1*m1) * np.tan(xs1/2))/(v1*v1-m1*m1))))/v1)\n",
    "def x2_sol(t,m2,v2,xs2):\n",
    "    return 2*np.arctan((m2-np.sqrt(v2*v2-m2*m2)*np.tan(-1/2 * t * np.sqrt(v2*v2-m2*m2) - np.arctan((-m2*np.sqrt(v2*v2-m2*m2) + v2*np.sqrt(v2*v2-m2*m2) * np.tan(xs2/2))/(v2*v2-m2*m2))))/v2)\n",
    "def x1_dot(t,m1,v1,xs1):\n",
    "    return ((v1*v1-m1*m1) * np.power(1/np.cos(-1/2 * t * np.sqrt(v1*v1-m1*m1) - np.arctan((-m1*np.sqrt(v1*v1-m1*m1) + v1*np.sqrt(v1*v1-m1*m1) * np.tan(xs1/2))/(v1*v1-m1*m1))), 2))/(v1 * (1+ (np.power((m1-np.sqrt(v1*v1-m1*m1)*np.tan(-1/2 * t * np.sqrt(v1*v1-m1*m1) - np.arctan((-m1*np.sqrt(v1*v1-m1*m1) + v1*np.sqrt(v1*v1-m1*m1) * np.tan(xs1/2))/(v1*v1-m1*m1)))) , 2)) / (v1*v1)))\n",
    "def x2_dot(t,m2,v2,xs2):\n",
    "    return ((v2*v2-m2*m2) * np.power(1/np.cos(-1/2 * t * np.sqrt(v2*v2-m2*m2) - np.arctan((-m2*np.sqrt(v2*v2-m2*m2) + v2*np.sqrt(v2*v2-m2*m2) * np.tan(xs2/2))/(v2*v2-m2*m2))), 2))/(v2 * (1+ (np.power((m2-np.sqrt(v2*v2-m2*m2)*np.tan(-1/2 * t * np.sqrt(v2*v2-m2*m2) - np.arctan((-m2*np.sqrt(v2*v2-m2*m2) + v2*np.sqrt(v2*v2-m2*m2) * np.tan(xs2/2))/(v2*v2-m2*m2)))) , 2)) / (v2*v2)))\n",
    "def x1_dotdot(t,m1,v1,xs1):\n",
    "    return 2 * (-(np.power(v1*v1-m1*m1,2) * 1/np.power(np.cos(-1/2 * t * np.sqrt(v1*v1-m1*m1) - np.arctan((-m1*np.sqrt(v1*v1-m1*m1) + v1*np.sqrt(v1*v1-m1*m1) * np.tan(xs1/2))/(v1*v1-m1*m1))),4) * (m1-np.sqrt(v1*v1-m1*m1) * np.tan(-1/2 * t * np.sqrt(v1*v1-m1*m1) - np.arctan((-m1*np.sqrt(v1*v1-m1*m1) + v1*np.sqrt(v1*v1-m1*m1) * np.tan(xs1/2))/(v1*v1-m1*m1)))) / (2*np.power(v1, 3)*(1+1/np.power(v1, 2)*(m1-np.sqrt(v1*v1-m1*m1)*np.tan(-1/2 * t * np.sqrt(v1*v1-m1*m1) - np.arctan((-m1*np.sqrt(v1*v1-m1*m1) + v1*np.sqrt(v1*v1-m1*m1) * np.tan(xs1/2))/(v1*v1-m1*m1))))))) - (np.power(v1*v1-m1*m1,3/2) * 1/np.power(np.cos(-1/2 * t * np.sqrt(v1*v1-m1*m1) - np.arctan((-m1*np.sqrt(v1*v1-m1*m1) + v1*np.sqrt(v1*v1-m1*m1) * np.tan(xs1/2))/(v1*v1-m1*m1))),2) * np.tan(-1/2 * t * np.sqrt(v1*v1-m1*m1) - np.arctan((-m1*np.sqrt(v1*v1-m1*m1) + v1*np.sqrt(v1*v1-m1*m1) * np.tan(xs1/2))/(v1*v1-m1*m1)))) / (2*v1 * (1+ np.power(m1-np.sqrt(v1*v1-m1*m1)*np.tan(-1/2 * t * np.sqrt(v1*v1-m1*m1) - np.arctan((-m1*np.sqrt(v1*v1-m1*m1) + v1*np.sqrt(v1*v1-m1*m1) * np.tan(xs1/2))/(v1*v1-m1*m1))),2)/np.power(v1,2))))\n",
    "def x2_dotdot(t,m2,v2,xs2):\n",
    "    return 2 * (-(np.power(v2*v2-m2*m2,2) * 1/np.power(np.cos(-1/2 * t * np.sqrt(v2*v2-m2*m2) - np.arctan((-m2*np.sqrt(v2*v2-m2*m2) + v2*np.sqrt(v2*v2-m2*m2) * np.tan(xs2/2))/(v2*v2-m2*m2))),4) * (m2-np.sqrt(v2*v2-m2*m2) * np.tan(-1/2 * t * np.sqrt(v2*v2-m2*m2) - np.arctan((-m2*np.sqrt(v2*v2-m2*m2) + v2*np.sqrt(v2*v2-m2*m2) * np.tan(xs2/2))/(v2*v2-m2*m2)))) / (2*np.power(v2, 3)*(1+1/np.power(v2, 2)*(m2-np.sqrt(v2*v2-m2*m2)*np.tan(-1/2 * t * np.sqrt(v2*v2-m2*m2) - np.arctan((-m2*np.sqrt(v2*v2-m2*m2) + v2*np.sqrt(v2*v2-m2*m2) * np.tan(xs2/2))/(v2*v2-m2*m2))))))) - (np.power(v2*v2-m2*m2,3/2) * 1/np.power(np.cos(-1/2 * t * np.sqrt(v2*v2-m2*m2) - np.arctan((-m2*np.sqrt(v2*v2-m2*m2) + v2*np.sqrt(v2*v2-m2*m2) * np.tan(xs2/2))/(v2*v2-m2*m2))),2) * np.tan(-1/2 * t * np.sqrt(v2*v2-m2*m2) - np.arctan((-m2*np.sqrt(v2*v2-m2*m2) + v2*np.sqrt(v2*v2-m2*m2) * np.tan(xs2/2))/(v2*v2-m2*m2)))) / (2*v2 * (1+ np.power(m2-np.sqrt(v2*v2-m2*m2)*np.tan(-1/2 * t * np.sqrt(v2*v2-m2*m2) - np.arctan((-m2*np.sqrt(v2*v2-m2*m2) + v2*np.sqrt(v2*v2-m2*m2) * np.tan(xs2/2))/(v2*v2-m2*m2))),2)/np.power(v2,2))))"
   ]
  },
  {
   "cell_type": "code",
   "execution_count": 32,
   "metadata": {},
   "outputs": [],
   "source": [
    "##1 MANUAL\n",
    "#v1>v2, a1>a2\n",
    "\n",
    "def catchtime(time):\n",
    "    return x1_sol(time,l_m1,l_v1,l_x1)-x2_sol(time,l_m2,l_v2,l_x2)\n",
    "\n",
    "def positionprey(time):\n",
    "    pos = x1_sol(time,l_m1,l_v1,l_x1)\n",
    "    for i in range(0,len(pos)):\n",
    "        if pos[i]>2*np.pi:\n",
    "            pos[i] -= 2*np.pi\n",
    "        if pos[i]<0:\n",
    "            pos[i] += 2*np.pi\n",
    "    return pos\n",
    "def positionpred(time):\n",
    "    pos = x2_sol(time,l_m2,l_v2,l_x2)\n",
    "    for i in range(0,len(pos)):\n",
    "        if pos[i]>2*np.pi:\n",
    "            pos[i] -= 2*np.pi\n",
    "        if pos[i]<0:\n",
    "            pos[i] += 2*np.pi\n",
    "    return pos\n",
    "\n",
    "def catchpos(time):\n",
    "    pos = x1_sol(time,l_m1,l_v1,l_x1)\n",
    "    if pos>2*np.pi:\n",
    "        pos -= 2*np.pi\n",
    "    if pos <0:\n",
    "        pos += 2*np.pi\n",
    "    return pos\n",
    "\n",
    "def findclosest(array, value): \n",
    "    min_dif = math.inf\n",
    "    target_index = len(array)\n",
    "    for index,v in enumerate(array):\n",
    "        dif = np.absolute(v-value)\n",
    "        if dif < min_dif:\n",
    "            min_dif = dif\n",
    "            target_index = index\n",
    "    return target_index\n",
    "\n",
    "def position(time):\n",
    "    pos = x1_sol(time,l_m1,l_v1,l_x1)\n",
    "    return pos\n",
    "\n",
    "\n",
    "l_m1=3\n",
    "l_v1=6\n",
    "l_m2=2\n",
    "l_v2=4\n",
    "l_time=np.linspace(0,4,1000)\n",
    "\n",
    "xi=l_v2/l_m2\n",
    "tau=1/l_m2\n",
    "l_x1=np.pi/3*xi\n",
    "l_x2=np.pi/8*xi"
   ]
  },
  {
   "cell_type": "code",
   "execution_count": 33,
   "metadata": {},
   "outputs": [
    {
     "name": "stdout",
     "output_type": "stream",
     "text": [
      "2.3983983983983985\n"
     ]
    }
   ],
   "source": [
    "# Catching Time\n",
    "ctime = np.absolute(catchtime(l_time))\n",
    "for ctime_value, time in zip(ctime, l_time):\n",
    "    if ctime_value > 0.01:\n",
    "        catch = -1\n",
    "    elif ctime_value < 0.01 and ctime_value >= 0:\n",
    "        catch = time\n",
    "        break\n",
    "\n",
    "print(catch)"
   ]
  },
  {
   "cell_type": "code",
   "execution_count": 34,
   "metadata": {
    "scrolled": true
   },
   "outputs": [],
   "source": [
    "# Counter\n",
    "\n",
    "xs4 = positionprey(l_time)\n",
    "a = 1\n",
    "while a < len(xs4):\n",
    "    if xs4[a]-xs4[a-1] < 0:\n",
    "        start = a\n",
    "        while start < len(xs4):\n",
    "            xs4[start] += 2*np.pi\n",
    "            start +=1\n",
    "    a += 1\n",
    "    \n",
    "# def newpos(oldpos):\n",
    "#     newpos = oldpos\n",
    "#     a = 1\n",
    "#     while a < len(oldpos):\n",
    "#     if oldpos[a]-oldpos[a-1] < 0:\n",
    "#         start = a\n",
    "#         while start < len(oldpos):\n",
    "#             oldpos[start] += 2*np.pi\n",
    "#             start +=1\n",
    "#     a += 1\n",
    "#     return newpos"
   ]
  },
  {
   "cell_type": "code",
   "execution_count": 45,
   "metadata": {},
   "outputs": [
    {
     "data": {
      "image/png": "[encoded data removed]",
      "text/plain": [
       "<Figure size 432x288 with 1 Axes>"
      ]
     },
     "metadata": {
      "needs_background": "light"
     },
     "output_type": "display_data"
    }
   ],
   "source": [
    "min_dif = max(l_time)\n",
    "target_index = len(l_time)\n",
    "for index,t in enumerate(l_time):\n",
    "    dif = np.absolute(t-catch)\n",
    "    if dif < min_dif:\n",
    "        min_dif = dif\n",
    "        target_index = index\n",
    "\n",
    "plt.plot(l_time/tau, positionprey(l_time)/xi, label=\"Prey $x_1$\")\n",
    "plt.plot(l_time/tau, positionpred(l_time)/xi, \"--\", label=\"Predator $x_2$\")\n",
    "#plt.plot(l_time, xs4, label=\"Prey $x_1$\")\n",
    "plt.plot(l_time/tau, xs4/xi, label=\"Prey $x_1$ (Distance Travelled)\")\n",
    "#plt.plot(l_time, position(l_time))\n",
    "\n",
    "\n",
    "\n",
    "#plt.axvline(catch, color='r', linestyle='dashed')\n",
    "plt.scatter(catch/tau, xs4[target_index]/xi, c=\"red\")\n",
    "plt.scatter(catch/tau, catchpos(catch)/xi, c=\"black\")\n",
    "\n",
    "\n",
    "\n",
    "# print(positionpred(l_time))\n",
    "\n",
    "\n",
    "#plt.legend(frameon=False, bbox_to_anchor=(0, 0.97, 1, 0), loc=\"lower left\", mode=\"expand\", ncol=2)\n",
    "plt.legend(frameon=False, loc='center left', bbox_to_anchor=(1, 0.5))\n",
    "plt.xlabel(\"time $t/\\\\tau$\")\n",
    "plt.ylabel(\"position $x/\\\\xi$\")\n",
    "plt.savefig(\"ba_heatmap2.png\", dpi=300, bbox_inches='tight')\n",
    "plt.show()"
   ]
  },
  {
   "cell_type": "code",
   "execution_count": 41,
   "metadata": {},
   "outputs": [
    {
     "name": "stdout",
     "output_type": "stream",
     "text": [
      "3.4154154154154153\n",
      "2.330151904865906\n",
      "21.179707826404666\n",
      "3.370855193814405\n",
      "4\n"
     ]
    }
   ],
   "source": [
    "print(catch)\n",
    "print(catchpos(catch))\n",
    "print(xs4[target_index])\n",
    "print(xs4[target_index]/(2*np.pi))\n",
    "div = int(xs4[target_index]/(2*np.pi)) +1\n",
    "print(div)"
   ]
  },
  {
   "cell_type": "code",
   "execution_count": null,
   "metadata": {},
   "outputs": [],
   "source": []
  },
  {
   "cell_type": "code",
   "execution_count": null,
   "metadata": {},
   "outputs": [],
   "source": []
  }
 ],
 "metadata": {
  "kernelspec": {
   "display_name": "Python 3 (ipykernel)",
   "language": "python",
   "name": "python3"
  },
  "language_info": {
   "codemirror_mode": {
    "name": "ipython",
    "version": 3
   },
   "file_extension": ".py",
   "mimetype": "text/x-python",
   "name": "python",
   "nbconvert_exporter": "python",
   "pygments_lexer": "ipython3",
   "version": "3.9.12"
  }
 },
 "nbformat": 4,
 "nbformat_minor": 4
}
