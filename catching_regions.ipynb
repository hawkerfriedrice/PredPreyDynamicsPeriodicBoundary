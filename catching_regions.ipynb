{
 "cells": [
  {
   "cell_type": "code",
   "execution_count": 3,
   "metadata": {},
   "outputs": [],
   "source": [
    "%matplotlib inline\n",
    "#%matplotlib notebook\n",
    "\n",
    "from ipywidgets import interact, interactive, fixed, interact_manual,Play\n",
    "import ipywidgets as widgets\n",
    "import matplotlib.colors as colors\n",
    "import matplotlib as mpl\n",
    "import pylab\n",
    "import matplotlib\n",
    "import numpy as np\n",
    "import matplotlib.pyplot as plt\n",
    "import scipy.interpolate as interpolate\n",
    "import math\n",
    "import os\n",
    "import scipy.special as sp\n",
    "import scipy.integrate as integrate\n",
    "import scipy.misc as ms\n",
    "from matplotlib import gridspec\n",
    "from numpy import linalg as LA\n",
    "from scipy.optimize import curve_fit\n",
    "from mpl_toolkits.mplot3d import Axes3D\n",
    "import warnings\n",
    "from matplotlib.colors import LinearSegmentedColormap\n",
    "from matplotlib.patches import Rectangle, Circle\n",
    "from scipy import optimize\n",
    "from tqdm import tqdm\n",
    "\n",
    "from matplotlib.colors import BoundaryNorm\n",
    "from matplotlib.ticker import MaxNLocator\n",
    "\n",
    "warnings.filterwarnings('ignore')"
   ]
  },
  {
   "cell_type": "code",
   "execution_count": 4,
   "metadata": {},
   "outputs": [],
   "source": [
    "\n",
    "pgf_with_latex = {                      # setup matplotlib to use latex for output\n",
    "    \"pgf.texsystem\": \"pdflatex\",        # change this if using xetex or lautex\n",
    "    \"text.usetex\": True,                # use LaTeX to write all text\n",
    "    \"font.family\": \"serif\",\n",
    "    \"font.serif\": [],                   # blank entries should cause plots to inherit fonts from the document\n",
    "    \"font.sans-serif\": [],\n",
    "    \"font.monospace\": [],\n",
    "    \"axes.labelsize\": 18,               # LaTeX default is 10pt font.\n",
    "    #\"text.fontsize\": 18,\n",
    "    \"legend.fontsize\": 16,               # Make the legend/label fonts a little smaller\n",
    "    \"xtick.labelsize\": 16,\n",
    "    \"ytick.labelsize\": 16,\n",
    "    \"pgf.preamble\": [\n",
    "        r\"\\usepackage{bm}\",  \n",
    "        r\"\\usepackage[utf8x]{inputenc}\",    # use utf8 fonts becasue your computer can handle it :)\n",
    "        r\"\\usepackage[T1]{fontenc}\",        # plots will be generated using this preamble\n",
    "        r\"\\usepackage{amsmath}\"\n",
    "        ]\n",
    "    }\n",
    "mpl.rcParams.update(pgf_with_latex)\n"
   ]
  },
  {
   "cell_type": "code",
   "execution_count": 5,
   "metadata": {},
   "outputs": [],
   "source": [
    "def x1_sol(t,m1,v1,xs1):\n",
    "    return ((v1 + m1*xs1)*np.exp(m1*t) - v1)/m1\n",
    "def x2_sol(t,m2,v2,xs2):\n",
    "    return ((v2 + m2*xs2)*np.exp(m2*t) - v2)/m2\n",
    "def x1_dot(t,m1,v1,xs1):\n",
    "    return np.exp(m1 *t)*(v1 + m1 *xs1)\n",
    "def x2_dot(t,m2,v2,xs2):\n",
    "    return np.exp(m2 *t)*(v2 + m2 *xs2)\n",
    "def x1_dotdot(t,m1,v1,xs1):\n",
    "    return m1*np.exp(m1 *t)*(v1 + m1 *xs1)\n",
    "def x2_dotdot(t,m2,v2,xs2):\n",
    "    return m2*np.exp(m2 *t)*(v2 + m2 *xs2)"
   ]
  },
  {
   "cell_type": "code",
   "execution_count": 6,
   "metadata": {
    "scrolled": false
   },
   "outputs": [
    {
     "name": "stderr",
     "output_type": "stream",
     "text": [
      "100%|████████████████████████████████████████████████████████████████████████████████| 201/201 [32:31<00:00,  9.71s/it]\n"
     ]
    },
    {
     "data": {
      "image/png": "[encoded data removed]",
      "text/plain": [
       "<Figure size 432x288 with 2 Axes>"
      ]
     },
     "metadata": {
      "needs_background": "light"
     },
     "output_type": "display_data"
    }
   ],
   "source": [
    "l_x1= -1/3\n",
    "l_x2= -1/2\n",
    "\n",
    "def catchtime(time):\n",
    "    return x1_sol(time,l_m1,l_v1,l_x1)-x2_sol(time,l_m2,l_v2,l_x2)\n",
    "def catchtime_prime(time):\n",
    "    return x1_dot(time,l_m1,l_v1,l_x1)-x2_dot(time,l_m2,l_v2,l_x2)\n",
    "def catchtime_prime2(time):\n",
    "    return x1_dotdot(time,l_m1,l_v1,l_x1)-x2_dotdot(time,l_m2,l_v2,l_x2)\n",
    "def catch_pos(time):\n",
    "    return x1_sol(time,l_m1,l_v1,l_x1)\n",
    "\n",
    "interval=0.01\n",
    "v1_list=np.arange(0.0,2.0+interval,interval)\n",
    "m1_list=np.arange(0.0,2.0+interval,interval)\n",
    "\n",
    "x, y = np.meshgrid(m1_list, v1_list)\n",
    "l_m2=1 # fix\n",
    "l_v2=1 # fix\n",
    "\n",
    "z = np.zeros(np.shape(x))\n",
    "\n",
    "with tqdm(total=len(v1_list)) as pbar:\n",
    "    for i,l_v1 in enumerate(v1_list):\n",
    "        l_v1=v1_list[i]\n",
    "        pbar.update(1)\n",
    "        for j,l_m1 in enumerate(m1_list):\n",
    "            l_m1=m1_list[j]\n",
    "            \n",
    "            if l_m1>1.0:\n",
    "                initial_t=0\n",
    "            else:\n",
    "                initial_t=100   \n",
    "            \n",
    "            catch_times, converged = optimize.newton(catchtime, initial_t, fprime=catchtime_prime, fprime2=catchtime_prime2, maxiter=5000, full_output=True, disp=False)\n",
    "            #case caught 1\n",
    "            if catch_times <=0:\n",
    "                z[i,j] = 6\n",
    "            elif catch_pos(catch_times) > l_x1 and catch_pos(catch_times) < 0:\n",
    "                z[i,j] = 1\n",
    "            #case caught 2\n",
    "            elif catch_pos(catch_times) > 0.0:\n",
    "                z[i,j] = 2\n",
    "            #case caught 5\n",
    "            elif catch_pos(catch_times) < l_x1:\n",
    "                z[i,j] = 5\n",
    "            #case caught 6\n",
    "            else:\n",
    "                z[i,j] = 6\n",
    "\n",
    "fig, ax = plt.subplots()\n",
    "plt.pcolormesh(x,y,z, cmap=\"tab10\", vmin=1,vmax=10)\n",
    "plt.colorbar()\n",
    "\n",
    "# plt.plot(1.0, range(1.0,2.0), c=\"black\")\n",
    "#plt.plot(l_m1,catch_pos(0), \"--\")\n",
    "\n",
    "#plt.title(\"Catching Position with Different Velocities\")\n",
    "plt.xlim(0,2.0,0.5)\n",
    "plt.ylim(0,2.0,0.25)\n",
    "#plt.legend(frameon=False)\n",
    "plt.xlabel(\"$\\\\alpha_1$/$\\\\alpha_2$\")\n",
    "plt.ylabel(\"$v_1$/$v_2$\")\n",
    "#plt.savefig(\"Regions_Final.png\", dpi=300, bbox_inches='tight')\n",
    "\n",
    "plt.show()\n",
    "\n"
   ]
  },
  {
   "cell_type": "code",
   "execution_count": 12,
   "metadata": {},
   "outputs": [
    {
     "ename": "TypeError",
     "evalue": "'float' object cannot be interpreted as an integer",
     "output_type": "error",
     "traceback": [
      "\u001b[1;31m---------------------------------------------------------------------------\u001b[0m",
      "\u001b[1;31mTypeError\u001b[0m                                 Traceback (most recent call last)",
      "\u001b[1;32m<ipython-input-12-abbe8541e903>\u001b[0m in \u001b[0;36m<module>\u001b[1;34m\u001b[0m\n\u001b[1;32m----> 1\u001b[1;33m \u001b[0mplt\u001b[0m\u001b[1;33m.\u001b[0m\u001b[0mplot\u001b[0m\u001b[1;33m(\u001b[0m\u001b[1;36m1.0\u001b[0m\u001b[1;33m,\u001b[0m \u001b[0mrange\u001b[0m\u001b[1;33m(\u001b[0m\u001b[1;36m1.0\u001b[0m\u001b[1;33m,\u001b[0m\u001b[1;36m2.0\u001b[0m\u001b[1;33m)\u001b[0m\u001b[1;33m,\u001b[0m \u001b[0mc\u001b[0m\u001b[1;33m=\u001b[0m\u001b[1;34m\"black\"\u001b[0m\u001b[1;33m)\u001b[0m\u001b[1;33m\u001b[0m\u001b[1;33m\u001b[0m\u001b[0m\n\u001b[0m\u001b[0;32m      2\u001b[0m \u001b[0mplt\u001b[0m\u001b[1;33m.\u001b[0m\u001b[0mplot\u001b[0m\u001b[1;33m(\u001b[0m\u001b[0ml_m1\u001b[0m\u001b[1;33m,\u001b[0m\u001b[0mcatch_pos\u001b[0m\u001b[1;33m(\u001b[0m\u001b[1;36m0\u001b[0m\u001b[1;33m)\u001b[0m\u001b[1;33m,\u001b[0m \u001b[1;34m\"--\"\u001b[0m\u001b[1;33m)\u001b[0m\u001b[1;33m\u001b[0m\u001b[1;33m\u001b[0m\u001b[0m\n",
      "\u001b[1;31mTypeError\u001b[0m: 'float' object cannot be interpreted as an integer"
     ]
    }
   ],
   "source": [
    "plt.plot(1.0, range(1.0,2.0), c=\"black\")\n",
    "plt.plot(l_m1,catch_pos(0), \"--\")\n"
   ]
  },
  {
   "cell_type": "code",
   "execution_count": null,
   "metadata": {
    "scrolled": true
   },
   "outputs": [],
   "source": []
  },
  {
   "cell_type": "code",
   "execution_count": null,
   "metadata": {
    "scrolled": true
   },
   "outputs": [],
   "source": []
  },
  {
   "cell_type": "code",
   "execution_count": null,
   "metadata": {},
   "outputs": [],
   "source": []
  },
  {
   "cell_type": "code",
   "execution_count": null,
   "metadata": {},
   "outputs": [],
   "source": []
  }
 ],
 "metadata": {
  "kernelspec": {
   "display_name": "Python 3 (ipykernel)",
   "language": "python",
   "name": "python3"
  },
  "language_info": {
   "codemirror_mode": {
    "name": "ipython",
    "version": 3
   },
   "file_extension": ".py",
   "mimetype": "text/x-python",
   "name": "python",
   "nbconvert_exporter": "python",
   "pygments_lexer": "ipython3",
   "version": "3.9.12"
  }
 },
 "nbformat": 4,
 "nbformat_minor": 4
}
